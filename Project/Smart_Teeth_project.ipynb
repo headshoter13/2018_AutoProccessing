{
 "cells": [
  {
   "cell_type": "code",
   "execution_count": 19,
   "metadata": {
    "collapsed": true
   },
   "outputs": [],
   "source": [
    "import nltk\n",
    "from nltk.collocations import *\n",
    "from nltk.stem import WordNetLemmatizer\n",
    "from nltk.corpus import wordnet\n",
    "import re\n",
    "from pymystem3 import Mystem"
   ]
  },
  {
   "cell_type": "code",
   "execution_count": 35,
   "metadata": {
    "scrolled": true
   },
   "outputs": [
    {
     "name": "stdout",
     "output_type": "stream",
     "text": [
      "новый мясо&рыба – самый большой ресторан москвы от знаменитого ресторанного консультанта да ещё и ст\n"
     ]
    }
   ],
   "source": [
    "punct = '.,!?()/\\\\:;«»'\n",
    "\n",
    "with open('text.txt', 'r', encoding='utf-8') as f:\n",
    "    text = f.read().lower()\n",
    "words = text.split()\n",
    "words = [word.strip(punct) for word in words]\n",
    "\n",
    "words[:100]\n",
    "clean_text = ''\n",
    "for word in words:\n",
    "    clean_text += word + ' '"
   ]
  },
  {
   "cell_type": "code",
   "execution_count": 56,
   "metadata": {
    "collapsed": true
   },
   "outputs": [
    {
     "data": {
      "text/plain": [
       "['leg',\n",
       " 'новый',\n",
       " 'мясо',\n",
       " 'рыба',\n",
       " ' – ',\n",
       " 'самый',\n",
       " 'большой',\n",
       " 'ресторан',\n",
       " 'москва',\n",
       " 'от']"
      ]
     },
     "execution_count": 56,
     "metadata": {},
     "output_type": "execute_result"
    }
   ],
   "source": [
    "m = Mystem()\n",
    "\n",
    "lemmas = ['leg']\n",
    "for word in m.lemmatize(clean_text):\n",
    "    lemmas.append(word)\n",
    "for lemma in lemmas:\n",
    "    if len(lemma) <= 1:\n",
    "        lemmas.remove(lemma)\n",
    "lemmas[:10]"
   ]
  },
  {
   "cell_type": "code",
   "execution_count": 57,
   "metadata": {
    "collapsed": true
   },
   "outputs": [],
   "source": [
    "with open('seed.txt', 'r', encoding='utf-8') as f:\n",
    "    text = f.read()\n",
    "seeds = ['foot']\n",
    "for spltr in text.split():\n",
    "    seeds.append(spltr)"
   ]
  },
  {
   "cell_type": "code",
   "execution_count": 58,
   "metadata": {
    "collapsed": true
   },
   "outputs": [
    {
     "data": {
      "text/plain": [
       "['foot',\n",
       " 'аналогов',\n",
       " 'нет',\n",
       " 'подошва',\n",
       " 'вежливый',\n",
       " 'великолепный',\n",
       " 'вкусный',\n",
       " 'внимательный',\n",
       " 'большой',\n",
       " 'выбор',\n",
       " 'вау',\n",
       " 'неплохой',\n",
       " 'идеальный',\n",
       " 'неприятный',\n",
       " 'понравилось',\n",
       " 'рекомендуем',\n",
       " 'на',\n",
       " 'ура',\n",
       " 'советуем',\n",
       " 'отвратительный',\n",
       " 'отличный',\n",
       " 'положительный',\n",
       " 'отрицательный',\n",
       " 'приятный',\n",
       " 'напоминать',\n",
       " 'о',\n",
       " 'себе',\n",
       " 'спасибо',\n",
       " 'радовать',\n",
       " 'глаз',\n",
       " 'на',\n",
       " 'совесть',\n",
       " 'молодцы',\n",
       " 'придти',\n",
       " 'еще',\n",
       " 'раз',\n",
       " 'орать',\n",
       " 'улыбаться',\n",
       " 'приветливый',\n",
       " 'отличный',\n",
       " 'замечательный']"
      ]
     },
     "execution_count": 58,
     "metadata": {},
     "output_type": "execute_result"
    }
   ],
   "source": [
    "seeds"
   ]
  },
  {
   "cell_type": "code",
   "execution_count": 17,
   "metadata": {
    "collapsed": true
   },
   "outputs": [],
   "source": [
    "def get_dist_sim(ss1, lexeme):\n",
    "    distances = []\n",
    "    similarities = []\n",
    "    for ss2 in lexeme:\n",
    "        dist = ss1.shortest_path_distance(ss2)\n",
    "        if dist is not None:\n",
    "            distances.append(dist)\n",
    "            sim = ss1.path_similarity(ss2)\n",
    "            similarities.append(sim)\n",
    "    return distances, similarities"
   ]
  },
  {
   "cell_type": "code",
   "execution_count": 103,
   "metadata": {
    "collapsed": true
   },
   "outputs": [
    {
     "ename": "ValueError",
     "evalue": "min() arg is an empty sequence",
     "output_type": "error",
     "traceback": [
      "\u001b[0;31m---------------------------------------------------------------------------\u001b[0m",
      "\u001b[0;31mValueError\u001b[0m                                Traceback (most recent call last)",
      "\u001b[0;32m<ipython-input-103-99fe6f641bb5>\u001b[0m in \u001b[0;36m<module>\u001b[0;34m()\u001b[0m\n\u001b[1;32m      5\u001b[0m         \u001b[0mlemma_syn\u001b[0m \u001b[0;34m=\u001b[0m \u001b[0mwordnet\u001b[0m\u001b[0;34m.\u001b[0m\u001b[0msynsets\u001b[0m\u001b[0;34m(\u001b[0m\u001b[0mlemma\u001b[0m\u001b[0;34m)\u001b[0m\u001b[0;34m\u001b[0m\u001b[0m\n\u001b[1;32m      6\u001b[0m         \u001b[0mdist1\u001b[0m \u001b[0;34m=\u001b[0m \u001b[0mget_dist_sim\u001b[0m\u001b[0;34m(\u001b[0m\u001b[0mseed_syn\u001b[0m\u001b[0;34m,\u001b[0m \u001b[0mlemma_syn\u001b[0m\u001b[0;34m)\u001b[0m\u001b[0;34m\u001b[0m\u001b[0m\n\u001b[0;32m----> 7\u001b[0;31m         \u001b[0;32mif\u001b[0m \u001b[0mmin\u001b[0m\u001b[0;34m(\u001b[0m\u001b[0mmin\u001b[0m\u001b[0;34m(\u001b[0m\u001b[0mdist1\u001b[0m\u001b[0;34m)\u001b[0m\u001b[0;34m)\u001b[0m \u001b[0;34m<\u001b[0m \u001b[0;36m1\u001b[0m\u001b[0;34m:\u001b[0m\u001b[0;34m\u001b[0m\u001b[0m\n\u001b[0m\u001b[1;32m      8\u001b[0m             \u001b[0madd_to_seed\u001b[0m\u001b[0;34m.\u001b[0m\u001b[0mappend\u001b[0m\u001b[0;34m(\u001b[0m\u001b[0mlemma\u001b[0m\u001b[0;34m)\u001b[0m\u001b[0;34m\u001b[0m\u001b[0m\n\u001b[1;32m      9\u001b[0m \u001b[0;34m\u001b[0m\u001b[0m\n",
      "\u001b[0;31mValueError\u001b[0m: min() arg is an empty sequence"
     ]
    }
   ],
   "source": [
    "add_to_seed = []\n",
    "for seed in seeds:\n",
    "    seed_syn = wordnet.synsets(seed)[0]\n",
    "    for lemma in lemmas:\n",
    "        lemma_syn = wordnet.synsets(lemma)\n",
    "        dist1 = get_dist_sim(seed_syn, lemma_syn)\n",
    "        if min(min(dist1)) < 1:\n",
    "            add_to_seed.append(lemma)\n",
    "\n",
    "#эта ячейка пока не работает, потому что мы еще не подключили русский ворднет, синсеты пустые"
   ]
  },
  {
   "cell_type": "code",
   "execution_count": 101,
   "metadata": {},
   "outputs": [
    {
     "name": "stdout",
     "output_type": "stream",
     "text": [
      "0.05555555555555555\n"
     ]
    }
   ],
   "source": [
    "#просто для проверки в начало списков seeds и lemmas были добавлены слова leg и foot, которые есть \n",
    "#в английском ворднете, эта ячейка просто для проверки, что код будет работать, когда мы подключим русский ворднет\n",
    "#\n",
    " \n",
    "add_to_seed = []\n",
    "seed_syn = wordnet.synsets(seeds[0])[0]\n",
    "lemma_syn = wordnet.synsets(lemmas[0])\n",
    "dist1 = get_dist_sim(seed_syn, lemma_syn)\n",
    "print(min(min(dist1)))"
   ]
  },
  {
   "cell_type": "code",
   "execution_count": null,
   "metadata": {
    "collapsed": true
   },
   "outputs": [],
   "source": [
    "#считает, сколько слов из отобранных нами встречается в списке золотого стандарта\n",
    "gold = open('rusentilex.txt', 'r', encoding = 'utf-8').read().split()\n",
    "\n",
    "\n",
    "in_gold = 0\n",
    "\n",
    "for i in add_to_seed:\n",
    "    if i in gold:\n",
    "        in_gold += 1"
   ]
  }
 ],
 "metadata": {
  "kernelspec": {
   "display_name": "Python 3",
   "language": "python",
   "name": "python3"
  },
  "language_info": {
   "codemirror_mode": {
    "name": "ipython",
    "version": 3
   },
   "file_extension": ".py",
   "mimetype": "text/x-python",
   "name": "python",
   "nbconvert_exporter": "python",
   "pygments_lexer": "ipython3",
   "version": "3.6.2"
  }
 },
 "nbformat": 4,
 "nbformat_minor": 2
}
