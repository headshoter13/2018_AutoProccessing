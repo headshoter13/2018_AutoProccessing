{
 "cells": [
  {
   "cell_type": "code",
   "execution_count": 1,
   "metadata": {
    "collapsed": true
   },
   "outputs": [],
   "source": [
    "from nltk.corpus import wordnet"
   ]
  },
  {
   "cell_type": "code",
   "execution_count": 6,
   "metadata": {},
   "outputs": [
    {
     "name": "stdout",
     "output_type": "stream",
     "text": [
      "[nltk_data] Downloading package wordnet to\n",
      "[nltk_data]     C:\\Users\\Anastasia\\AppData\\Roaming\\nltk_data...\n",
      "[nltk_data]   Unzipping corpora\\wordnet.zip.\n"
     ]
    },
    {
     "data": {
      "text/plain": [
       "True"
      ]
     },
     "execution_count": 6,
     "metadata": {},
     "output_type": "execute_result"
    }
   ],
   "source": [
    "# import nltk\n",
    "# nltk.download('wordnet')"
   ]
  },
  {
   "cell_type": "markdown",
   "metadata": {},
   "source": [
    "# 1"
   ]
  },
  {
   "cell_type": "code",
   "execution_count": 23,
   "metadata": {},
   "outputs": [
    {
     "name": "stdout",
     "output_type": "stream",
     "text": [
      "Synset('cape.n.01') a strip of land projecting into a body of water\n",
      "Synset('cape.n.02') a sleeveless garment like a cloak but shorter\n"
     ]
    }
   ],
   "source": [
    "word = wordnet.synsets('cape')\n",
    "for s in word:\n",
    "    print(s, s.definition())"
   ]
  },
  {
   "cell_type": "markdown",
   "metadata": {},
   "source": [
    "# 2"
   ]
  },
  {
   "cell_type": "code",
   "execution_count": 25,
   "metadata": {},
   "outputs": [
    {
     "name": "stdout",
     "output_type": "stream",
     "text": [
      "land: (Synset('cape.n.01'), 'a strip of land projecting into a body of water')\n",
      "clothes: (Synset('cape.n.02'), 'a sleeveless garment like a cloak but shorter')\n"
     ]
    }
   ],
   "source": [
    "print('land:', (word[0], word[0].definition()))\n",
    "print('clothes:', (word[1], word[1].definition()))"
   ]
  },
  {
   "cell_type": "markdown",
   "metadata": {},
   "source": [
    "# 3"
   ]
  },
  {
   "cell_type": "code",
   "execution_count": 27,
   "metadata": {},
   "outputs": [
    {
     "name": "stdout",
     "output_type": "stream",
     "text": [
      "a strip of land projecting into a body of water\n",
      "a sleeveless garment like a cloak but shorter\n"
     ]
    }
   ],
   "source": [
    "from nltk.wsd import lesk\n",
    "\n",
    "land = 'And this,’ he said, with a sweep of his arm that took in the stark capes and headlands, the fleets of islands and the sea around us, ‘this was my school room.'\n",
    "clothes = 'He wears a grey t-shirt underneath a plaid flannel shirt and short grey cape , jeans, runners, and a plain black mask.'\n",
    "\n",
    "land_tokens = [i.strip(',’.') for i in land.split()]\n",
    "clothes_tokens = [i.strip('.,') for i in clothes.split()]\n",
    "\n",
    "print(lesk(land_tokens, 'cape').definition())\n",
    "print(lesk(clothes_tokens, 'cape').definition())"
   ]
  },
  {
   "cell_type": "markdown",
   "metadata": {},
   "source": [
    "Алгоритм правильно распознал оба значения слова."
   ]
  },
  {
   "cell_type": "markdown",
   "metadata": {},
   "source": [
    "# 4"
   ]
  },
  {
   "cell_type": "code",
   "execution_count": 28,
   "metadata": {},
   "outputs": [
    {
     "name": "stdout",
     "output_type": "stream",
     "text": [
      "Synset('land.n.04') the solid part of the earth's surface\n"
     ]
    }
   ],
   "source": [
    "for m in word[0].hypernyms():\n",
    "    print(m, m.definition())"
   ]
  },
  {
   "cell_type": "code",
   "execution_count": 29,
   "metadata": {},
   "outputs": [
    {
     "name": "stdout",
     "output_type": "stream",
     "text": [
      "Synset('cloak.n.02') a loose outer garment\n"
     ]
    }
   ],
   "source": [
    "for m in word[1].hypernyms():\n",
    "    print(m, m.definition())"
   ]
  },
  {
   "cell_type": "markdown",
   "metadata": {},
   "source": [
    "# 5"
   ]
  },
  {
   "cell_type": "code",
   "execution_count": 50,
   "metadata": {},
   "outputs": [
    {
     "name": "stdout",
     "output_type": "stream",
     "text": [
      "min d(cape: \"мыс\", land): 1\n",
      "closest lemma definition: the solid part of the earth's surface\n",
      "\n",
      "min d(cape: \"мыс\", clothes): 7\n",
      "closest lemma definition: clothing in general\n",
      "\n",
      "min d(cape: \"кейп\", land): 9\n",
      "closest lemma definition: material in the top layer of the surface of the earth in which plants can grow (especially with reference to its quality or use)\n",
      "\n",
      "min d(cape: \"кейп\", clothes): 5\n",
      "closest lemma definition: clothing in general\n",
      "\n",
      "min (d(cape: \"мыс\", land), d(cape: \"мыс\", clothes)): 1\n",
      "min (d(cape: \"кейп\", land), d(cape: \"кейп\", clothes)): 5\n"
     ]
    }
   ],
   "source": [
    "land = wordnet.synsets('land')\n",
    "clothes = wordnet.synsets('clothes')\n",
    "\n",
    "def get_dist_sim(ss1, lexeme):\n",
    "    distances = []\n",
    "    similarities = []\n",
    "    for ss2 in lexeme:\n",
    "        dist = ss1.shortest_path_distance(ss2)\n",
    "        if dist is not None:\n",
    "            distances.append(dist)\n",
    "            sim = ss1.path_similarity(ss2)\n",
    "            similarities.append(sim)\n",
    "    return distances, similarities\n",
    "\n",
    "dist1 = get_dist_sim(word[0], land)[0]\n",
    "print('min d(cape: \"мыс\", land): {}'.format(min(dist1)))\n",
    "print('closest lemma definition: {}\\n'.format(land[dist1.index(min(dist1))].definition()))\n",
    "\n",
    "dist2 = get_dist_sim(word[0], clothes)[0]\n",
    "print('min d(cape: \"мыс\", clothes): {}'.format(min(dist2)))\n",
    "print('closest lemma definition: {}\\n'.format(clothes[dist2.index(min(dist2))].definition()))\n",
    "\n",
    "dist3 = get_dist_sim(word[1], land)[0]\n",
    "print('min d(cape: \"кейп\", land): {}'.format(min(dist3)))\n",
    "print('closest lemma definition: {}\\n'.format(land[dist3.index(min(dist3))].definition()))\n",
    "\n",
    "dist4 = get_dist_sim(word[1], clothes)[0]\n",
    "print('min d(cape: \"кейп\", clothes): {}'.format(min(dist4)))\n",
    "print('closest lemma definition: {}\\n'.format(clothes[dist4.index(min(dist4))].definition()))\n",
    "\n",
    "print('min (d(cape: \"мыс\", land), d(cape: \"мыс\", clothes)): {}'.format(min(min(dist1), min(dist2))))\n",
    "print('min (d(cape: \"кейп\", land), d(cape: \"кейп\", clothes)): {}'.format(min(min(dist3), min(dist4))))"
   ]
  },
  {
   "cell_type": "markdown",
   "metadata": {},
   "source": [
    "- Кратчайшее расстояние от мыса до land - 1; у ближайшей леммы land такое же определение, как и у cape в значении \"мыс\"\n",
    "- Кратчайшее расстояние от мыса до clothes - 7\n",
    "- Кратчайшее расстояние от кейпа до land - 9\n",
    "- Кратчайшее расстояние от кейпа до clothes - 5 \n",
    "- У леммы clothes одинаковое определение в случае ближайшего расположения относительно мыса и кейпа \n",
    "- Мыс ближе к land, кейп ближе к clothes (что логично)"
   ]
  },
  {
   "cell_type": "markdown",
   "metadata": {},
   "source": [
    "# 6"
   ]
  },
  {
   "cell_type": "markdown",
   "metadata": {},
   "source": [
    "Вычислить двумя разными способами расстояние: d(cape: \"мыс\", island) и d(organism, whole).\n",
    "\n",
    "Leacock-Chodorow Similarity & Jiang-Conrath Similarity"
   ]
  },
  {
   "cell_type": "code",
   "execution_count": 52,
   "metadata": {},
   "outputs": [
    {
     "name": "stdout",
     "output_type": "stream",
     "text": [
      "Synset('island.n.01') a land mass (smaller than a continent) that is surrounded by water\n",
      "Synset('island.n.02') a zone or area resembling an island\n"
     ]
    }
   ],
   "source": [
    "island = wordnet.synsets('island')\n",
    "for ss in island:\n",
    "    print(ss, ss.definition())"
   ]
  },
  {
   "cell_type": "code",
   "execution_count": 57,
   "metadata": {},
   "outputs": [
    {
     "name": "stdout",
     "output_type": "stream",
     "text": [
      "[nltk_data] Downloading package wordnet_ic to\n",
      "[nltk_data]     C:\\Users\\Anastasia\\AppData\\Roaming\\nltk_data...\n",
      "[nltk_data]   Unzipping corpora\\wordnet_ic.zip.\n"
     ]
    },
    {
     "data": {
      "text/plain": [
       "True"
      ]
     },
     "execution_count": 57,
     "metadata": {},
     "output_type": "execute_result"
    }
   ],
   "source": [
    "# nltk.download('wordnet_ic')"
   ]
  },
  {
   "cell_type": "code",
   "execution_count": 58,
   "metadata": {},
   "outputs": [],
   "source": [
    "from nltk.corpus import wordnet_ic\n",
    "ic = wordnet_ic.ic('ic-brown.dat')"
   ]
  },
  {
   "cell_type": "code",
   "execution_count": 60,
   "metadata": {},
   "outputs": [
    {
     "name": "stdout",
     "output_type": "stream",
     "text": [
      "Leacock-Chodorow Similarity 2.538973871058276\n",
      "Jiang-Conrath Similarity 0.20605589196622942\n"
     ]
    }
   ],
   "source": [
    "print('Leacock-Chodorow Similarity', word[0].lch_similarity(island[0]))\n",
    "print('Jiang-Conrath Similarity', word[0].jcn_similarity(island[0], ic=ic))"
   ]
  },
  {
   "cell_type": "code",
   "execution_count": 63,
   "metadata": {},
   "outputs": [
    {
     "name": "stdout",
     "output_type": "stream",
     "text": [
      "Synset('organism.n.01') a living thing that has (or can develop) the ability to act or function independently\n",
      "Synset('organism.n.01') []\n",
      "Synset('organism.n.02') a system considered analogous in structure or function to a living body\n",
      "Synset('organism.n.02') ['the social organism']\n",
      "\n",
      "Synset('whole.n.01') all of something including all its component elements or parts\n",
      "Synset('whole.n.01') ['Europe considered as a whole', 'the whole of American literature']\n",
      "Synset('whole.n.02') an assemblage of parts that is regarded as a single entity\n",
      "Synset('whole.n.02') ['how big is that part compared to the whole?', 'the team is a unit']\n"
     ]
    }
   ],
   "source": [
    "organism = wordnet.synsets('organism')\n",
    "for ss in organism:\n",
    "    print(ss, ss.definition())\n",
    "    print(ss, ss.examples())\n",
    "print()\n",
    "whole = wordnet.synsets('whole', 'n')\n",
    "for ss in whole:\n",
    "    print(ss, ss.definition())\n",
    "    print(ss, ss.examples())"
   ]
  },
  {
   "cell_type": "code",
   "execution_count": 67,
   "metadata": {
    "scrolled": true
   },
   "outputs": [
    {
     "name": "stdout",
     "output_type": "stream",
     "text": [
      "\"orginism\" definition:  a living thing that has (or can develop) the ability to act or function independently\n",
      "\n",
      "\"whole\" definition:  all of something including all its component elements or parts\n",
      "\n",
      "Leacock-Chodorow Similarity:  1.072636802264849\n",
      "\n",
      "Jiang-Conrath Similarity:  0.11927453545173074\n",
      "\"whole\" definition:  an assemblage of parts that is regarded as a single entity\n",
      "\n",
      "Leacock-Chodorow Similarity:  2.538973871058276\n",
      "\n",
      "Jiang-Conrath Similarity:  1.4444255924181877\n",
      "\"orginism\" definition:  a system considered analogous in structure or function to a living body\n",
      "\n",
      "\"whole\" definition:  all of something including all its component elements or parts\n",
      "\n",
      "Leacock-Chodorow Similarity:  1.3350010667323402\n",
      "\n",
      "Jiang-Conrath Similarity:  0.05928363701403374\n",
      "\"whole\" definition:  an assemblage of parts that is regarded as a single entity\n",
      "\n",
      "Leacock-Chodorow Similarity:  1.55814461804655\n",
      "\n",
      "Jiang-Conrath Similarity:  0.07444639262208605\n"
     ]
    }
   ],
   "source": [
    "for ss1 in organism:\n",
    "    print('\"orginism\" definition: ', ss1.definition())\n",
    "    print()\n",
    "    for ss2 in whole:\n",
    "        print('\"whole\" definition: ', ss2.definition())\n",
    "        print()\n",
    "        print('Leacock-Chodorow Similarity: ', ss1.lch_similarity(ss2))\n",
    "        print()\n",
    "        print('Jiang-Conrath Similarity: ', ss1.jcn_similarity(ss2, ic=ic))"
   ]
  },
  {
   "cell_type": "markdown",
   "metadata": {},
   "source": [
    "- По метрике Leacock-Chodorow Similarity \"мыс\" похож на \"остров\" меьше, чем \"организм\" на \"целое\" (во всех значениях) \n",
    "- С метрикой Jiang-Conrath Similarity примерно такая же картина, за исключением схожести \"организма\" и \"целого\" в значении \"an assemblage of parts...\" \n",
    "- Вероятно, такие результаты связаны с тем, что мной было не очень удачно подобрано второе слово (\"остров\"), и оно не включает в себя \"мыс\", а только близко к нему по значению"
   ]
  }
 ],
 "metadata": {
  "kernelspec": {
   "display_name": "Python 3",
   "language": "python",
   "name": "python3"
  },
  "language_info": {
   "codemirror_mode": {
    "name": "ipython",
    "version": 3.0
   },
   "file_extension": ".py",
   "mimetype": "text/x-python",
   "name": "python",
   "nbconvert_exporter": "python",
   "pygments_lexer": "ipython3",
   "version": "3.6.3"
  }
 },
 "nbformat": 4,
 "nbformat_minor": 0
}